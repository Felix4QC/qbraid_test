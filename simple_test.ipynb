{
 "cells": [
  {
   "cell_type": "code",
   "execution_count": 34,
   "id": "73260554-690f-4e27-a4f8-7c4f3b811abc",
   "metadata": {},
   "outputs": [],
   "source": [
    "import numpy as np\n",
    "import itertools\n",
    "import pandas as pd\n",
    "import matplotlib.pyplot as plt\n",
    "from gtda.time_series import TakensEmbedding\n",
    "import gudhi\n",
    "from ripser import ripser"
   ]
  },
  {
   "cell_type": "code",
   "execution_count": 29,
   "id": "23a298b9-5b16-49ac-8b50-d301554a0096",
   "metadata": {},
   "outputs": [
    {
     "data": {
      "text/plain": [
       "[<matplotlib.lines.Line2D at 0x7dcb55bba2d0>]"
      ]
     },
     "execution_count": 29,
     "metadata": {},
     "output_type": "execute_result"
    },
    {
     "data": {
      "image/png": "[encoded data removed]",
      "text/plain": [
       "<Figure size 640x480 with 1 Axes>"
      ]
     },
     "metadata": {},
     "output_type": "display_data"
    }
   ],
   "source": [
    "# generate the time series\n",
    "np.random.seed(4566)\n",
    "time_series = np.cumsum(np.random.normal(loc=0, scale=1, size=20))\n",
    "plt.plot(time_series)"
   ]
  },
  {
   "cell_type": "code",
   "execution_count": 30,
   "id": "d65d5ad0-8f5f-4d9a-ae3c-95cf233fe7ad",
   "metadata": {},
   "outputs": [
    {
     "data": {
      "text/plain": [
       "array([[-0.72219657,  1.62602568,  2.13659113,  2.11219344,  1.46982544],\n",
       "       [ 1.62602568,  2.13659113,  2.11219344,  1.46982544,  1.23364145],\n",
       "       [ 2.13659113,  2.11219344,  1.46982544,  1.23364145, -1.25533763],\n",
       "       [ 2.11219344,  1.46982544,  1.23364145, -1.25533763, -2.39845685],\n",
       "       [ 1.46982544,  1.23364145, -1.25533763, -2.39845685, -3.67340186],\n",
       "       [ 1.23364145, -1.25533763, -2.39845685, -3.67340186, -2.41827455],\n",
       "       [-1.25533763, -2.39845685, -3.67340186, -2.41827455, -3.74909634],\n",
       "       [-2.39845685, -3.67340186, -2.41827455, -3.74909634, -5.77660551],\n",
       "       [-3.67340186, -2.41827455, -3.74909634, -5.77660551, -3.651481  ],\n",
       "       [-2.41827455, -3.74909634, -5.77660551, -3.651481  , -5.91417054],\n",
       "       [-3.74909634, -5.77660551, -3.651481  , -5.91417054, -6.69479512],\n",
       "       [-5.77660551, -3.651481  , -5.91417054, -6.69479512, -5.37823055],\n",
       "       [-3.651481  , -5.91417054, -6.69479512, -5.37823055, -4.55089868],\n",
       "       [-5.91417054, -6.69479512, -5.37823055, -4.55089868, -5.02543689],\n",
       "       [-6.69479512, -5.37823055, -4.55089868, -5.02543689, -4.58045816],\n",
       "       [-5.37823055, -4.55089868, -5.02543689, -4.58045816, -4.98269981]])"
      ]
     },
     "execution_count": 30,
     "metadata": {},
     "output_type": "execute_result"
    }
   ],
   "source": [
    "te = TakensEmbedding(time_delay=1, dimension=5)\n",
    "embedded_series = te.fit_transform([time_series])[0]\n",
    "embedded_series"
   ]
  },
  {
   "cell_type": "code",
   "execution_count": 31,
   "id": "85ff0f06-ef73-41d8-8e7c-35a4659e113f",
   "metadata": {
    "scrolled": true
   },
   "outputs": [
    {
     "data": {
      "text/plain": [
       "[[[0],\n",
       "  [1],\n",
       "  [2],\n",
       "  [3],\n",
       "  [4],\n",
       "  [5],\n",
       "  [6],\n",
       "  [7],\n",
       "  [8],\n",
       "  [9],\n",
       "  [10],\n",
       "  [11],\n",
       "  [12],\n",
       "  [13],\n",
       "  [14],\n",
       "  [15]],\n",
       " [[14, 15],\n",
       "  [13, 14],\n",
       "  [13, 15],\n",
       "  [0, 1],\n",
       "  [11, 15],\n",
       "  [1, 2],\n",
       "  [2, 3],\n",
       "  [12, 13],\n",
       "  [12, 15],\n",
       "  [11, 14],\n",
       "  [3, 4],\n",
       "  [6, 7],\n",
       "  [10, 15],\n",
       "  [4, 5]],\n",
       " [[13, 14, 15], [12, 13, 15], [11, 14, 15]],\n",
       " []]"
      ]
     },
     "execution_count": 31,
     "metadata": {},
     "output_type": "execute_result"
    }
   ],
   "source": [
    "rips_complex = gudhi.RipsComplex(points=embedded_series, max_edge_length=3.3)\n",
    "simplex_tree = rips_complex.create_simplex_tree(max_dimension=3)\n",
    "separate_complex = [[] for _ in range(4)]\n",
    "\n",
    "for simplex, _ in simplex_tree.get_filtration():\n",
    "    separate_complex[len(simplex) - 1].append(simplex)\n",
    "\n",
    "separate_complex"
   ]
  },
  {
   "cell_type": "code",
   "execution_count": 37,
   "id": "5b01eadb-a9cb-44e6-ac38-20da32fbb1bb",
   "metadata": {},
   "outputs": [
    {
     "data": {
      "text/plain": [
       "[array([[0.        , 1.73286211],\n",
       "        [0.        , 1.85752189],\n",
       "        [0.        , 2.49876761],\n",
       "        [0.        , 2.52673054],\n",
       "        [0.        , 2.63148403],\n",
       "        [0.        , 2.8232522 ],\n",
       "        [0.        , 2.893466  ],\n",
       "        [0.        , 3.09768343],\n",
       "        [0.        , 3.22326398],\n",
       "        [0.        , 3.27936721],\n",
       "        [0.        , 3.27999258],\n",
       "        [0.        , 3.36347461],\n",
       "        [0.        , 3.42039728],\n",
       "        [0.        , 3.50520802],\n",
       "        [0.        , 3.53180623],\n",
       "        [0.        ,        inf]]),\n",
       " array([[3.68766379, 4.13438559],\n",
       "        [3.64679432, 4.01586533]]),\n",
       " array([], shape=(0, 2), dtype=float64),\n",
       " array([], shape=(0, 2), dtype=float64)]"
      ]
     },
     "execution_count": 37,
     "metadata": {},
     "output_type": "execute_result"
    }
   ],
   "source": [
    "result = ripser(embedded_series, maxdim=3)\n",
    "diagrams = result[\"dgms\"]\n",
    "diagrams"
   ]
  },
  {
   "cell_type": "code",
   "execution_count": 45,
   "id": "92c403e0-dca9-4cf5-b40d-1ab1f041f881",
   "metadata": {},
   "outputs": [
    {
     "data": {
      "text/html": [
       "<div>\n",
       "<style scoped>\n",
       "    .dataframe tbody tr th:only-of-type {\n",
       "        vertical-align: middle;\n",
       "    }\n",
       "\n",
       "    .dataframe tbody tr th {\n",
       "        vertical-align: top;\n",
       "    }\n",
       "\n",
       "    .dataframe thead th {\n",
       "        text-align: right;\n",
       "    }\n",
       "</style>\n",
       "<table border=\"1\" class=\"dataframe\">\n",
       "  <thead>\n",
       "    <tr style=\"text-align: right;\">\n",
       "      <th></th>\n",
       "      <th>0</th>\n",
       "    </tr>\n",
       "  </thead>\n",
       "  <tbody>\n",
       "    <tr>\n",
       "      <th>0</th>\n",
       "      <td>0</td>\n",
       "    </tr>\n",
       "    <tr>\n",
       "      <th>1</th>\n",
       "      <td>1</td>\n",
       "    </tr>\n",
       "    <tr>\n",
       "      <th>2</th>\n",
       "      <td>2</td>\n",
       "    </tr>\n",
       "  </tbody>\n",
       "</table>\n",
       "</div>"
      ],
      "text/plain": [
       "   0\n",
       "0  0\n",
       "1  1\n",
       "2  2"
      ]
     },
     "execution_count": 45,
     "metadata": {},
     "output_type": "execute_result"
    }
   ],
   "source": [
    "pd.DataFrame(np.arange(3))"
   ]
  },
  {
   "cell_type": "code",
   "execution_count": null,
   "id": "59b5bd42-1100-4845-a3ef-1c2de8ef678a",
   "metadata": {},
   "outputs": [],
   "source": []
  }
 ],
 "metadata": {
  "kernelspec": {
   "display_name": "Python 3 [moodys]",
   "language": "python",
   "name": "python3_moodys_emhihz"
  },
  "language_info": {
   "codemirror_mode": {
    "name": "ipython",
    "version": 3
   },
   "file_extension": ".py",
   "mimetype": "text/x-python",
   "name": "python",
   "nbconvert_exporter": "python",
   "pygments_lexer": "ipython3",
   "version": "3.11.9"
  }
 },
 "nbformat": 4,
 "nbformat_minor": 5
}
